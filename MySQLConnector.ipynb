{
 "cells": [
  {
   "cell_type": "code",
   "execution_count": 5,
   "id": "2876a43c",
   "metadata": {},
   "outputs": [
    {
     "name": "stdout",
     "output_type": "stream",
     "text": [
      "Connection established successfully.\n"
     ]
    }
   ],
   "source": [
    "import mysql.connector\n",
    "from mysql.connector import errorcode\n",
    "\n",
    "import mysql.connector\n",
    "\n",
    "config = {\n",
    "  'user': 'admin1',\n",
    "  'password': 'Vutheanh13241',\n",
    "  'host': '192.168.1.168',\n",
    "  'database': 'little_lemon_db',\n",
    "  'raise_on_warnings': True\n",
    "}\n",
    "\n",
    "try:\n",
    "    cnx = mysql.connector.connect(**config)\n",
    "    if cnx.is_connected():\n",
    "        print(\"Connection established successfully.\")\n",
    "    else:\n",
    "        print(\"Connection failed.\")\n",
    "except mysql.connector.Error as err:\n",
    "    print(f\"Error: {err}\")"
   ]
  },
  {
   "cell_type": "code",
   "execution_count": 6,
   "id": "b852b0a7",
   "metadata": {},
   "outputs": [
    {
     "name": "stdout",
     "output_type": "stream",
     "text": [
      "('bookings',)\n",
      "('customers',)\n",
      "('menu',)\n",
      "('orderdeliverystatus',)\n",
      "('orders',)\n",
      "('ordersview',)\n",
      "('staff',)\n"
     ]
    },
    {
     "data": {
      "text/plain": [
       "True"
      ]
     },
     "execution_count": 6,
     "metadata": {},
     "output_type": "execute_result"
    }
   ],
   "source": [
    "cursor = cnx.cursor()\n",
    "show_tables_query = \"SHOW tables\" \n",
    "cursor.execute(show_tables_query)\n",
    "\n",
    "results = cursor.fetchall()\n",
    "\n",
    "# Print the results\n",
    "for table in results:\n",
    "    print(table)\n",
    "    \n",
    "cursor.close()"
   ]
  },
  {
   "cell_type": "code",
   "execution_count": 9,
   "id": "9f4f9194",
   "metadata": {},
   "outputs": [
    {
     "data": {
      "text/plain": [
       "True"
      ]
     },
     "execution_count": 9,
     "metadata": {},
     "output_type": "execute_result"
    }
   ],
   "source": [
    "# Create a cursor\n",
    "cursor = cnx.cursor()\n",
    "\n",
    "# Define and execute your query using the cursor\n",
    "query = \"\"\"\n",
    "SELECT Customers.FullName, Customers.ContactNumber, Orders.TotalCost\n",
    "FROM Customers\n",
    "JOIN Bookings ON Customers.CustomerID = Bookings.CustomerID\n",
    "JOIN Orders ON Bookings.OrderID = Orders.OrderID\n",
    "WHERE Orders.TotalCost > 60\n",
    "\"\"\"\n",
    "\n",
    "cursor.execute(query)\n",
    "\n",
    "# Fetch the results\n",
    "results = cursor.fetchall()\n",
    "\n",
    "# Print the results\n",
    "for result in results:\n",
    "    print(result)\n",
    "\n",
    "# Close the cursor and the connection\n",
    "cursor.close()"
   ]
  },
  {
   "cell_type": "code",
   "execution_count": null,
   "id": "2eb54268",
   "metadata": {},
   "outputs": [],
   "source": []
  }
 ],
 "metadata": {
  "kernelspec": {
   "display_name": "Python 3 (ipykernel)",
   "language": "python",
   "name": "python3"
  },
  "language_info": {
   "codemirror_mode": {
    "name": "ipython",
    "version": 3
   },
   "file_extension": ".py",
   "mimetype": "text/x-python",
   "name": "python",
   "nbconvert_exporter": "python",
   "pygments_lexer": "ipython3",
   "version": "3.10.12"
  }
 },
 "nbformat": 4,
 "nbformat_minor": 5
}
